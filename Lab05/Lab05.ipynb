{
 "cells": [
  {
   "cell_type": "markdown",
   "metadata": {},
   "source": [
    "# Lab 05\n",
    "## Central Limit Theorem (CLT)\n",
    "\n",
    "\n",
    "The theorem says that under rather general circumstances, if you sum *independent* random variables and normalize\n",
    "them accordingly, then at the limit (when you sum lots of them) you’ll get a normal distribution.\n",
    "\n",
    "The classical version of CLT states that:\n",
    "\n",
    "Suppose that $X_i$ are independent, identically distributed random variables with mean $\\mu$ and variance $\\sigma^2$.\n",
    "\n",
    "Then $\\sqrt{n} \\frac{\\sum_i^n{X_i} - n\\mu }{\\sigma} \\rightarrow N (0, 1).$\n",
    "\n",
    "The meaning of $Y_n \\rightarrow Y$ is as follows: for each interval [a, b],\n",
    "$Pr[a ≤ Y_n ≤ b]  \\rightarrow Pr[a ≤ Y ≤ b].$\n",
    "\n",
    "Note that the type of distribution of $X_i$ is not specified.\n"
   ]
  },
  {
   "cell_type": "code",
   "execution_count": 19,
   "metadata": {
    "collapsed": false
   },
   "outputs": [],
   "source": [
    "import numpy as np\n",
    "import pandas as pd\n",
    "\n",
    "def kolmogorov_smirnov(samples, origin_cdf):\n",
    "    N = len(samples)\n",
    "    d_stat = [max(origin_cdf(s) - (i-1)/N, i/N - origin_cdf(s))\n",
    "              for i, s in enumerate(sorted(samples), start=1)]\n",
    "    \n",
    "    return max(d_stat)"
   ]
  },
  {
   "cell_type": "code",
   "execution_count": 28,
   "metadata": {
    "collapsed": true
   },
   "outputs": [],
   "source": [
    "s_count = 1000\n",
    "\n",
    "norm = np.random.normal(0, 1, s_count)\n",
    "laplace = np.random.laplace(0, 1, s_count)\n",
    "t = np.random.standard_t(3, s_count)\n",
    "lognorm = np.random.lognormal(0, 1, s_count)\n"
   ]
  },
  {
   "cell_type": "code",
   "execution_count": 44,
   "metadata": {
    "collapsed": false
   },
   "outputs": [
    {
     "name": "stdout",
     "output_type": "stream",
     "text": [
      "Y1 test statistic (Norm)    0.0272851989435\n",
      "Y2 test statistic (Laplace) 0.0682775350941\n",
      "Y3 test statistic (T-distr) 0.0680225620808\n",
      "Y4 test statistic (Lognorm) 0.529046251904\n",
      "Confidence level a=0.1, D < 0.0385797874541\n"
     ]
    }
   ],
   "source": [
    "from scipy.stats import norm as Norm\n",
    "\n",
    "conf = {0.1: 1.22, 0.05: 1.36, 0.2: 1.07}\n",
    "\n",
    "print('Y1 test statistic (Norm)   ', kolmogorov_smirnov(norm, Norm.cdf))\n",
    "print('Y2 test statistic (Laplace)', kolmogorov_smirnov(laplace, Norm.cdf))\n",
    "print('Y3 test statistic (T-distr)', kolmogorov_smirnov(t, Norm.cdf))\n",
    "print('Y4 test statistic (Lognorm)', kolmogorov_smirnov(lognorm, Norm.cdf))\n",
    "\n",
    "print('Confidence level a=0.1, D <', conf[0.1] / np.sqrt(s_count))"
   ]
  },
  {
   "cell_type": "code",
   "execution_count": null,
   "metadata": {
    "collapsed": true
   },
   "outputs": [],
   "source": []
  },
  {
   "cell_type": "markdown",
   "metadata": {},
   "source": [
    "### Exercise 0\n",
    "Let $S_n = \\sum_{i=1}^{n}U_i$ for $n = 1, 2,..., 12$ - the sum of 12 uniform distributions. \n",
    "\n",
    "What is the mean and the variance?\n",
    "\n",
    "Sample from $S_n$ 1000 times and plot the histogram of its normalized sample distribution ($\\frac{\\sum_i^n{X_i} - n\\mu }{\\sigma \\sqrt{n}}$).\n",
    "Plot the pdf for asymptotic Gaussian."
   ]
  },
  {
   "cell_type": "code",
   "execution_count": null,
   "metadata": {
    "collapsed": false
   },
   "outputs": [],
   "source": [
    "import numpy as np\n",
    "np.random.seed(42)\n",
    "N = 12\n",
    "samples = np.zeros(1000)\n",
    "for i in range(1000):\n",
    "    u = np.random.uniform(size=N)\n",
    "    samples[i] = np.sum(u) - (N/2)"
   ]
  },
  {
   "cell_type": "code",
   "execution_count": null,
   "metadata": {
    "collapsed": false
   },
   "outputs": [
    {
     "data": {
      "image/png": "[encoded data removed]",
      "text/plain": [
       "<matplotlib.figure.Figure at 0x193881f1c50>"
      ]
     },
     "metadata": {},
     "output_type": "display_data"
    }
   ],
   "source": [
    "import matplotlib.pyplot as plt\n",
    "from scipy.stats import norm\n",
    "%matplotlib inline\n",
    "# 1\n",
    "x = np.linspace(-3,3)\n",
    "plt.hist(samples, 30, normed=True);\n",
    "dist_asympt = norm(0,1)\n",
    "plt.plot(x, dist_asympt.pdf(x));\n"
   ]
  },
  {
   "cell_type": "markdown",
   "metadata": {},
   "source": [
    "### Exercise 1\n",
    "Without the usage of statistical packages sample from binomial distribution (imitating 5 coin tosses) 10000 times. \n",
    "\n",
    "Plot the histogram of sample distribution (with any convenient packages).\n",
    "\n",
    "Plot the pdf of a Gaussian to which the binomial distribution should converge asymptotically. The parameters for this Gaussian can be estimated using CLT, consider the binomial distribution as a distribution of the sum of independent random variables.\n",
    "\n",
    "Repeat the same procedure for 10 and 100 coin tosses."
   ]
  },
  {
   "cell_type": "code",
   "execution_count": 192,
   "metadata": {
    "collapsed": false
   },
   "outputs": [
    {
     "data": {
      "text/plain": [
       "array([ 0.4472136 ,  0.4472136 ,  0.4472136 , -0.4472136 ,  0.4472136 ,\n",
       "       -0.4472136 ,  1.34164079,  0.4472136 ,  0.4472136 , -0.4472136 ])"
      ]
     },
     "execution_count": 192,
     "metadata": {},
     "output_type": "execute_result"
    }
   ],
   "source": [
    "import scipy.stats as stats\n",
    "\n",
    "# 1. sample from binomial distribution (n=5) without using statistical packages.\n",
    "\n",
    "def binomial(sample_size, samples_count=10000):\n",
    "    p, q = 0.5, 0.5\n",
    "    \n",
    "    samples = np.zeros(samples_count)\n",
    "    \n",
    "    for i in range(samples_count):\n",
    "        s = [np.round(np.random.random(1)) for t in range(sample_size)]\n",
    "        samples[i] = (np.sum(s) - sample_size * p) / np.sqrt(p * q * sample_size)\n",
    "    \n",
    "    return samples\n",
    "\n",
    "binomial(5, 10)"
   ]
  },
  {
   "cell_type": "code",
   "execution_count": 193,
   "metadata": {
    "collapsed": false
   },
   "outputs": [
    {
     "data": {
      "image/png": "[encoded data removed]",
      "text/plain": [
       "<matplotlib.figure.Figure at 0x19390ad5cf8>"
      ]
     },
     "metadata": {},
     "output_type": "display_data"
    }
   ],
   "source": [
    "# 2. plot the histogram of sample and pdf of a Gaussian.\n",
    "from collections import Counter\n",
    "\n",
    "\n",
    "def plot_histogram(samples):\n",
    "#     mode_count = stats.mode(samples).count[0]\n",
    "#     print(mode_count)\n",
    "    plt.hist(samples, 30, normed=True)\n",
    "    \n",
    "    x = np.linspace(-3, 3)\n",
    "    dist_asympt = norm(0, 1)\n",
    "    plt.plot(x, dist_asympt.pdf(x))\n",
    "    \n",
    "    plt.show()\n",
    "    \n",
    "plot_histogram(binomial(5, 10000))"
   ]
  },
  {
   "cell_type": "code",
   "execution_count": 194,
   "metadata": {
    "collapsed": false
   },
   "outputs": [
    {
     "data": {
      "image/png": "[encoded data removed]",
      "text/plain": [
       "<matplotlib.figure.Figure at 0x1938dc284e0>"
      ]
     },
     "metadata": {},
     "output_type": "display_data"
    },
    {
     "data": {
      "image/png": "[encoded data removed]",
      "text/plain": [
       "<matplotlib.figure.Figure at 0x1938dc3fb70>"
      ]
     },
     "metadata": {},
     "output_type": "display_data"
    },
    {
     "data": {
      "image/png": "[encoded data removed]",
      "text/plain": [
       "<matplotlib.figure.Figure at 0x1938de26e10>"
      ]
     },
     "metadata": {},
     "output_type": "display_data"
    }
   ],
   "source": [
    "# 3. repeat the same procedure with n = 10, 100.\n",
    "s_sizes = [5, 10, 100]\n",
    "samples_count = 10000\n",
    "\n",
    "for s_size in s_sizes:\n",
    "    samples = binomial(s_size, samples_count)\n",
    "    \n",
    "    plot_histogram(samples)"
   ]
  },
  {
   "cell_type": "markdown",
   "metadata": {},
   "source": [
    "### Exercise 2"
   ]
  },
  {
   "cell_type": "markdown",
   "metadata": {},
   "source": [
    "The average height of adult male in Russia is 177.2 cm with standard deviation 7.42.\n",
    "We suppose that the distribution of the height is Gaussain.\n",
    "Imagine that we take samples of 100 men and measure their height. What will be the distribution of the means for these samples?\n",
    "\n",
    "\n",
    "Depict the original distribution.\n",
    "\n",
    "Make random samples of size 100 from original distribution.\n",
    "Depict the empirical distribution of the sample means and the asymptotical distribution of sample means from CLT."
   ]
  },
  {
   "cell_type": "code",
   "execution_count": 195,
   "metadata": {
    "collapsed": false
   },
   "outputs": [
    {
     "data": {
      "image/png": "[encoded data removed]",
      "text/plain": [
       "<matplotlib.figure.Figure at 0x1938df10f60>"
      ]
     },
     "metadata": {},
     "output_type": "display_data"
    }
   ],
   "source": [
    "# 1. Depict the original distribution of male height.\n",
    "distr_asympt = norm(loc=177.2, scale=7.42)\n",
    "\n",
    "x = np.linspace(-3, 3)\n",
    "plt.plot(x, dist_asympt.pdf(x))\n",
    "\n",
    "plt.show()"
   ]
  },
  {
   "cell_type": "code",
   "execution_count": 196,
   "metadata": {
    "collapsed": false
   },
   "outputs": [],
   "source": [
    "# 2. Make random samples of size 100\n",
    "def get_random_samples(n_samples, s_size=100):\n",
    "    return np.array([np.random.normal(loc=177.2, scale=7.42, size=s_size) for i in range(n_samples)])\n"
   ]
  },
  {
   "cell_type": "code",
   "execution_count": 197,
   "metadata": {
    "collapsed": false
   },
   "outputs": [
    {
     "data": {
      "image/png": "[encoded data removed]",
      "text/plain": [
       "<matplotlib.figure.Figure at 0x1938df101d0>"
      ]
     },
     "metadata": {},
     "output_type": "display_data"
    }
   ],
   "source": [
    "# 3. Depict the empirical distribution of the sample means and \n",
    "# the asymptotical distribution of sample means from CLT\n",
    "\n",
    "# counting means\n",
    "samples = get_random_samples(500, s_size=10000)\n",
    "\n",
    "means = np.array([s.mean() for s in samples])\n",
    "\n",
    "# evaluting in z-score\n",
    "m, std = means.mean(), means.std()\n",
    "means = (means - m) / std\n",
    "\n",
    "plt.plot(x, dist_asympt.pdf(x))\n",
    "plt.hist(means, 30, normed=True)\n",
    "\n",
    "plt.show()"
   ]
  },
  {
   "cell_type": "markdown",
   "metadata": {},
   "source": [
    "## Multiple comparison problem\n",
    "\n"
   ]
  },
  {
   "cell_type": "markdown",
   "metadata": {},
   "source": [
    "When many correlation coefficients are calculated from a given set of data, the risk of obtaining significant results by chance is increased.\n",
    "\n",
    "There are several algorithms to deal with this problem.\n",
    "Let's say we fix our level of type I error to $\\alpha$.\n",
    "\n",
    "**Bonferroni**\n",
    "\n",
    "Bonferroni method simply reduces $\\alpha$ level to $\\frac{\\alpha}{k}$ where $k$ - the number of comparisons.\n",
    "\n",
    "It is very conservative though quite popular for its simplicity.\n",
    "\n",
    "\n",
    "**Holm**\n",
    "\n",
    "For Holm correction you should sort p-values in ascending order and find the smallest one that satisfies: $p>\\frac{\\alpha}{k+1−i}$, where $i$ is the index in sorted array. \n",
    "\n",
    "This p-value and the ones that are larger are considered insignificant.\n",
    "\n",
    "**Benjamini-Hochberg**\n",
    "\n",
    "In ordered array of p-values find the largest one that satisfies: $p≤\\frac{i}{k}\\alpha$. Then this p-value and all smaller ones are considered significant.\n",
    "\n",
    "The first two procedures control *Family Wise Error Rate* (FWER) i.e. the probability of making at least 1 error of type I. Both Bonferroni and Holm guarantee that the FWER will be not more than given level $\\alpha$.\n",
    "\n",
    "While the last method works with *False Discovery Rate* (FDR) controling the expected number of type I errors. It is then less conservative. Benjamini-Hochberg guarantees that the expected proportion of false discoveries (type I errors) over all discoveries (rejected null hypothesis) is not greater then given $\\alpha$."
   ]
  },
  {
   "cell_type": "markdown",
   "metadata": {},
   "source": [
    "### Exercise 3\n",
    "*Description*\n",
    "\n",
    "There is a hypothesis that some genes are responsible for human body height. \n",
    "\n",
    "Full genome sequencing was performed for 2535 people from different countries i.e. the full sequence of DNA was obtained. The DNA sequence is encoded in 4 letters corresponding to different nucleotides ('A','C','G','T').\n",
    "\n",
    "SNP (Single Nucleotide Polymorphism) is a position in genome where variation of 1 nucleotide exists in population.\n",
    "For example, most of the people can have nucleotide 'A' in this position, while some others have nucleotide 'C'.\n",
    "\n",
    "You are given the data of 5 SNP's. The data is encoded in *0,1,2*. *0* corresponds to most popular variation, *2* - less popular, *1* - is the mix of both variations (remember, we inherit 2 variants from both parents).\n",
    "\n",
    "\n",
    "*Task*\n",
    "\n",
    "1. Read the data from 'data/snp.csv' file. \n",
    "\n",
    "1. Perform the 1-way ANOVA test to check whether the means of 'Height' differ in groups.\n",
    "Get the p-value for each SNP.\n",
    "\n",
    "1. Perform the correction of the multiple comparison using any method (any library).\n",
    "\n",
    "1. Make a conclusion about which SNP are connected with the human height and which are not."
   ]
  },
  {
   "cell_type": "code",
   "execution_count": 198,
   "metadata": {
    "collapsed": false
   },
   "outputs": [
    {
     "name": "stdout",
     "output_type": "stream",
     "text": [
      "Corrected alpha value = 0.016666666666666666 \n",
      "\n",
      "rs7859940 3.04465007411e-09 True\n",
      "rs10816533 2.48347619421e-20 True\n",
      "rs16966703 0.0215208824689 False\n",
      "rs2793701 0.0268116332849 False\n",
      "rs7606245 0.537427050043 False\n"
     ]
    }
   ],
   "source": [
    "import pandas as pd\n",
    "from statsmodels.stats.multitest import multipletests\n",
    "\n",
    "data = pd.read_csv('data/snp.csv')\n",
    "features = ['rs7859940', 'rs10816533', 'rs16966703', 'rs2793701', 'rs7606245']\n",
    "dependent = 'Height'\n",
    "\n",
    "# one-way ANOVA \n",
    "p_values = []\n",
    "for f in features:\n",
    "    t_test = stats.f_oneway(data[data[f] == 0]['Height'], data[data[f] == 1]['Height'], data[data[f] == 2]['Height'])\n",
    "    \n",
    "    p_values.append((f, t_test.pvalue))\n",
    "    \n",
    "# method = 'holm'\n",
    "# corrected = multipletests(p_values, method=method)\n",
    "# print(corrected)\n",
    "\n",
    "# apply correction of p-values using Bonferroni method\n",
    "alpha_value = 0.05 / 3\n",
    "\n",
    "print('Corrected alpha value =', alpha_value, '\\n')\n",
    "\n",
    "decisions = [(f, p, p < alpha_value) for f, p in p_values]\n",
    "\n",
    "for f, p, h0_true in decisions:\n",
    "    print(f, p, bool(h0_true))"
   ]
  },
  {
   "cell_type": "markdown",
   "metadata": {},
   "source": [
    "*Conclusions*\n",
    "\n",
    "We can claim that only those SNP are connected with the human height which p-value is less than our p-value=0.05 corrected by the Bonferroni method. In our case, such SNPs are rs7859940 and rs10816533."
   ]
  }
 ],
 "metadata": {
  "kernelspec": {
   "display_name": "Python [Root]",
   "language": "python",
   "name": "Python [Root]"
  },
  "language_info": {
   "codemirror_mode": {
    "name": "ipython",
    "version": 3
   },
   "file_extension": ".py",
   "mimetype": "text/x-python",
   "name": "python",
   "nbconvert_exporter": "python",
   "pygments_lexer": "ipython3",
   "version": "3.5.2"
  }
 },
 "nbformat": 4,
 "nbformat_minor": 2
}
