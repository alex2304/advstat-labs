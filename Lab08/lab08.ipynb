{
 "cells": [
  {
   "cell_type": "code",
   "execution_count": 1,
   "metadata": {
    "collapsed": false
   },
   "outputs": [
    {
     "name": "stderr",
     "output_type": "stream",
     "text": [
      "C:\\Users\\Aleksey\\Anaconda3\\lib\\site-packages\\pytz\\__init__.py:29: UserWarning: Module concurrent was already imported from C:\\Users\\Aleksey\\Anaconda3\\lib\\concurrent\\__init__.py, but c:\\users\\aleksey\\appdata\\roaming\\python\\python35\\site-packages\\futures-3.1.1-py3.5.egg is being added to sys.path\n",
      "  from pkg_resources import resource_stream\n"
     ]
    }
   ],
   "source": [
    "import pandas as pd\n",
    "import numpy as np\n",
    "from sklearn.linear_model import LinearRegression\n",
    "from sklearn.utils import resample"
   ]
  },
  {
   "cell_type": "markdown",
   "metadata": {
    "collapsed": true
   },
   "source": [
    "**Load both datasets**"
   ]
  },
  {
   "cell_type": "code",
   "execution_count": 70,
   "metadata": {
    "collapsed": true
   },
   "outputs": [],
   "source": [
    "ds2, ds1 = pd.read_csv('ds-boot-1.csv', sep='\\t'), pd.read_csv('ds-boot-2.csv', sep='\\t')"
   ]
  },
  {
   "cell_type": "markdown",
   "metadata": {},
   "source": [
    "### Part 1.1"
   ]
  },
  {
   "cell_type": "code",
   "execution_count": 71,
   "metadata": {
    "collapsed": true
   },
   "outputs": [],
   "source": [
    "train, target = ds1.iloc[:, 1:29], ds1.iloc[:, 29:]"
   ]
  },
  {
   "cell_type": "code",
   "execution_count": 72,
   "metadata": {
    "collapsed": true
   },
   "outputs": [],
   "source": [
    "# part 1.1: estimate stats using bootstrap\n",
    "def est_stats(sample, n_resamples=100):\n",
    "    # bootstrap sample size\n",
    "    b_sample_size = sample.shape[0]\n",
    "    \n",
    "    # boostrap resamples\n",
    "    b_resamples = np.ndarray((n_resamples, b_sample_size))\n",
    "    \n",
    "    for i in range(0, n_resamples):\n",
    "        b_resamples[i] = resample(sample, n_samples=b_sample_size)\n",
    "    \n",
    "    b_resamples_means = [rs.mean() for rs in b_resamples]\n",
    "    \n",
    "    return pd.DataFrame(b_resamples_means)\n",
    "    "
   ]
  },
  {
   "cell_type": "code",
   "execution_count": 73,
   "metadata": {
    "collapsed": false
   },
   "outputs": [
    {
     "name": "stdout",
     "output_type": "stream",
     "text": [
      "y1                 0\n",
      "count  100.000000\n",
      "mean     4.065750\n",
      "std      0.537829\n",
      "min      2.862500\n",
      "25%      3.725000\n",
      "50%      4.031250\n",
      "75%      4.431250\n",
      "max      6.337500\n",
      "y2                 0\n",
      "count  100.000000\n",
      "mean     5.489312\n",
      "std      0.549208\n",
      "min      4.356250\n",
      "25%      5.028125\n",
      "50%      5.468750\n",
      "75%      5.803125\n",
      "max      6.987500\n",
      "y3                 0\n",
      "count  100.000000\n",
      "mean     7.222965\n",
      "std      0.494212\n",
      "min      5.995000\n",
      "25%      6.853937\n",
      "50%      7.200500\n",
      "75%      7.577312\n",
      "max      8.344250\n",
      "y4                 0\n",
      "count  100.000000\n",
      "mean     1.516270\n",
      "std      0.108606\n",
      "min      1.245750\n",
      "25%      1.441500\n",
      "50%      1.517250\n",
      "75%      1.587125\n",
      "max      1.793250\n",
      "y5                 0\n",
      "count  100.000000\n",
      "mean     5.574935\n",
      "std      0.482968\n",
      "min      4.373500\n",
      "25%      5.276000\n",
      "50%      5.549000\n",
      "75%      5.934750\n",
      "max      6.768500\n"
     ]
    }
   ],
   "source": [
    "# part 1.1: estimate stats using bootstrap for each y_i\n",
    "for y_i in target:\n",
    "    sample = target[y_i]\n",
    "    \n",
    "    print(y_i, est_stats(sample).describe())"
   ]
  },
  {
   "cell_type": "markdown",
   "metadata": {},
   "source": [
    "### Part 1.2"
   ]
  },
  {
   "cell_type": "code",
   "execution_count": 82,
   "metadata": {
    "collapsed": false
   },
   "outputs": [],
   "source": [
    "from sklearn.metrics import r2_score\n",
    "\n",
    "# part 1.2: est coefficients for LR\n",
    "def est_lr_coeffs(train, y, n_resamples=10):\n",
    "    sample_size = y.shape[0]\n",
    "    \n",
    "    lr = LinearRegression()    \n",
    "    \n",
    "    resamples = np.ndarray((n_resamples, sample_size))\n",
    "    bootstrap_coeffs = np.ndarray((n_resamples, train.shape[1] + 1))\n",
    "    det_coeffs = np.ndarray((n_resamples, ))\n",
    "    \n",
    "    # find coefficients for original y sample\n",
    "    lr.fit(train, y)\n",
    "    origin_coeffs = np.concatenate((lr.coef_, [lr.intercept_]))\n",
    "    \n",
    "    # resampling and finding coefficients of LR for each resample\n",
    "    for j in range(n_resamples):\n",
    "        resamples[j] = resample(y, n_samples=sample_size)\n",
    "        \n",
    "        lr.fit(train, resamples[j])\n",
    "        \n",
    "        y_predicted = lr.predict(train)\n",
    "        \n",
    "        det_coeffs[j] = r2_score(y, y_predicted)\n",
    "        bootstrap_coeffs[j] = np.concatenate((lr.coef_, [lr.intercept_]))\n",
    "    \n",
    "    # find 95-% confidence interval \n",
    "    deltas = origin_coeffs - bootstrap_coeffs\n",
    "    deltas_l = np.percentile(deltas, 2.5, axis=0)\n",
    "    deltas_r = np.percentile(deltas, 97.5, axis=0)\n",
    "    \n",
    "    l_bound = origin_coeffs - deltas_r\n",
    "    upp_bound = origin_coeffs - deltas_l\n",
    "    \n",
    "    return pd.DataFrame([{'est': origin_coeffs[i],\n",
    "                          'low_bound': l_bound[i],\n",
    "                          'upp_bound': upp_bound[i]\n",
    "                         } \n",
    "                         for i in range(train.shape[1])])\n",
    "    \n",
    "    # sort bootstrap samples according to coefficient of determination of LR\n",
    "#     sorted_samples = np.ndarray((n_resamples, sample_size))\n",
    "#     for i, t in enumerate(sorted(zip(det_coeffs, resamples), key=lambda e: e[0], reverse=True)):\n",
    "#         det_coeff, sample = t\n",
    "#         sorted_samples[i] = sample\n",
    "    \n",
    "#     return sorted_samples"
   ]
  },
  {
   "cell_type": "code",
   "execution_count": 83,
   "metadata": {
    "collapsed": false
   },
   "outputs": [
    {
     "name": "stdout",
     "output_type": "stream",
     "text": [
      "\n",
      " y1 \n",
      "          est  low_bound  upp_bound\n",
      "0   0.352388  -0.786960   0.781436\n",
      "1  -0.087259  -0.743695   0.748361\n",
      "2  -0.472046  -1.358899   1.314174\n",
      "3   1.121283  -1.225417   1.090956\n",
      "4  -0.325610  -0.961106   0.975646\n",
      "5   0.916609  -1.593026   1.589221\n",
      "6  -1.070163  -1.369522   1.450655\n",
      "7  -0.210380  -1.042294   1.051247\n",
      "8  -0.184591  -1.284114   1.247275\n",
      "9  -0.342690  -1.256194   1.207878\n",
      "10  0.764015  -1.289208   1.276828\n",
      "11  0.040134  -1.588204   1.559167\n",
      "12  0.219712  -1.157727   1.067554\n",
      "13 -0.132371  -0.795164   0.760816\n",
      "14 -0.801004  -0.839442   0.848603\n",
      "15  0.255596  -0.479605   0.440370\n",
      "16  0.577988  -0.779427   0.817732\n",
      "17 -0.121128  -0.638353   0.586182\n",
      "18 -0.418202  -0.801956   0.821265\n",
      "19 -0.259606  -0.762434   0.804258\n",
      "20  0.793505  -0.780522   0.810019\n",
      "21 -0.113371  -0.677274   0.675761\n",
      "22  0.410392  -0.581285   0.581673\n",
      "23 -0.382840  -0.763276   0.821058\n",
      "24  0.603136  -1.103975   1.122082\n",
      "25  0.136971  -0.835933   0.819634\n",
      "26 -0.397624  -0.883005   0.853228\n",
      "27 -0.103562  -0.452111   0.484008\n",
      "\n",
      " y2 \n",
      "          est  low_bound  upp_bound\n",
      "0  -0.090558  -0.961367   0.970086\n",
      "1  -0.205010  -0.903019   0.866146\n",
      "2  -0.057567  -1.541327   1.568230\n",
      "3   1.032953  -1.282273   1.416001\n",
      "4  -0.427868  -1.181050   1.129310\n",
      "5   1.225397  -1.906334   1.989830\n",
      "6  -0.018256  -1.734218   1.687471\n",
      "7  -0.683489  -1.198790   1.172482\n",
      "8  -0.337342  -1.438971   1.529375\n",
      "9  -0.091564  -1.553657   1.515777\n",
      "10  0.496548  -1.509849   1.400525\n",
      "11 -0.217452  -1.900343   1.859439\n",
      "12  0.261986  -1.256861   1.320093\n",
      "13  0.094795  -0.974043   0.906072\n",
      "14 -0.777298  -1.012944   0.937326\n",
      "15  0.283687  -0.551099   0.558012\n",
      "16  0.431774  -1.044394   0.998360\n",
      "17 -0.106432  -0.742780   0.755843\n",
      "18 -0.613824  -0.932791   0.947382\n",
      "19 -0.032892  -0.889168   0.884256\n",
      "20  0.792482  -1.027657   0.964345\n",
      "21  0.095826  -0.823971   0.894281\n",
      "22 -0.123711  -0.698042   0.662868\n",
      "23 -0.114631  -0.888711   0.958682\n",
      "24  0.573890  -1.357325   1.297238\n",
      "25  0.376492  -0.983501   1.000165\n",
      "26 -0.687280  -1.182593   1.070757\n",
      "27 -0.255988  -0.587698   0.552871\n",
      "\n",
      " y3 \n",
      "          est  low_bound  upp_bound\n",
      "0   0.051572  -0.789764   0.922574\n",
      "1   0.031755  -0.861880   0.731530\n",
      "2   0.149808  -1.469286   1.435901\n",
      "3   0.015896  -1.192771   1.173460\n",
      "4   0.102900  -1.053883   0.959169\n",
      "5  -0.116013  -1.620585   1.527095\n",
      "6   0.256650  -1.483045   1.586004\n",
      "7   0.152808  -1.071218   1.030365\n",
      "8   0.088371  -1.342741   1.309308\n",
      "9   0.030420  -1.368120   1.255295\n",
      "10  0.111243  -1.463181   1.288451\n",
      "11  0.138548  -1.690666   1.594642\n",
      "12  0.016470  -1.081115   1.137089\n",
      "13  0.034545  -0.882682   0.771212\n",
      "14  0.117622  -0.884805   0.860760\n",
      "15 -0.012746  -0.465555   0.448047\n",
      "16 -0.051984  -0.881646   0.900523\n",
      "17 -0.010136  -0.645948   0.684196\n",
      "18  0.072866  -0.910841   0.932503\n",
      "19  0.034738  -0.793333   0.932363\n",
      "20 -0.081678  -0.846714   0.905841\n",
      "21 -0.036228  -0.668666   0.763531\n",
      "22  0.002734  -0.625806   0.614803\n",
      "23  0.042528  -0.830646   0.867762\n",
      "24 -0.086274  -1.235517   1.201424\n",
      "25 -0.004585  -0.850723   0.844081\n",
      "26  0.032907  -0.956207   0.905610\n",
      "27 -0.027088  -0.511910   0.474779\n",
      "\n",
      " y4 \n",
      "          est  low_bound  upp_bound\n",
      "0   0.013310  -0.179043   0.221525\n",
      "1  -0.018064  -0.190917   0.181314\n",
      "2   0.024081  -0.347870   0.347125\n",
      "3  -0.005826  -0.276360   0.305642\n",
      "4   0.062406  -0.227398   0.245634\n",
      "5   0.145860  -0.397793   0.372333\n",
      "6  -0.072311  -0.357196   0.371660\n",
      "7   0.098738  -0.242168   0.255839\n",
      "8   0.015254  -0.291202   0.310409\n",
      "9   0.072512  -0.325059   0.284454\n",
      "10 -0.007513  -0.314129   0.287977\n",
      "11 -0.053172  -0.373099   0.414879\n",
      "12 -0.117677  -0.253470   0.248425\n",
      "13  0.053958  -0.193113   0.177476\n",
      "14 -0.049468  -0.209034   0.183884\n",
      "15  0.027238  -0.109157   0.116418\n",
      "16 -0.062902  -0.207333   0.213255\n",
      "17  0.020630  -0.151710   0.161769\n",
      "18  0.034905  -0.206565   0.199841\n",
      "19  0.049194  -0.187093   0.183445\n",
      "20  0.064517  -0.193626   0.201327\n",
      "21 -0.054166  -0.155157   0.177060\n",
      "22  0.017224  -0.138891   0.137771\n",
      "23  0.042753  -0.195778   0.192472\n",
      "24 -0.085844  -0.289610   0.286186\n",
      "25  0.033526  -0.186980   0.213475\n",
      "26  0.009424  -0.221890   0.200044\n",
      "27 -0.000319  -0.113498   0.124338\n",
      "\n",
      " y5 \n",
      "          est  low_bound  upp_bound\n",
      "0   0.114781  -0.706056   0.855073\n",
      "1  -0.087976  -0.794038   0.695039\n",
      "2  -0.131057  -1.358231   1.362655\n",
      "3   0.705447  -1.143277   1.136823\n",
      "4  -0.196283  -0.930080   0.956808\n",
      "5   0.690554  -1.457495   1.526876\n",
      "6  -0.320737  -1.420484   1.331662\n",
      "7  -0.209024  -0.959457   0.959882\n",
      "8  -0.136846  -1.190172   1.172929\n",
      "9  -0.118925  -1.236114   1.309030\n",
      "10  0.449688  -1.228233   1.233612\n",
      "11 -0.024569  -1.654743   1.592244\n",
      "12  0.130924  -1.039479   1.018998\n",
      "13  0.006460  -0.788336   0.736035\n",
      "14 -0.490386  -0.759714   0.777286\n",
      "15  0.177967  -0.439149   0.473475\n",
      "16  0.300544  -0.840066   0.832078\n",
      "17 -0.072690  -0.658099   0.611433\n",
      "18 -0.300695  -0.787002   0.766723\n",
      "19 -0.076884  -0.739685   0.824298\n",
      "20  0.506255  -0.798120   0.773914\n",
      "21 -0.035041  -0.694498   0.757691\n",
      "22  0.111512  -0.586567   0.562387\n",
      "23 -0.145150  -0.852358   0.790101\n",
      "24  0.336286  -1.145377   1.117616\n",
      "25  0.168076  -0.770843   0.810492\n",
      "26 -0.332712  -0.841698   0.870787\n",
      "27 -0.121153  -0.481212   0.480594\n"
     ]
    }
   ],
   "source": [
    "# part 1.2: estimate coefficients for LR for each y_i\n",
    "for y_i in target:\n",
    "    target_i = target[y_i]\n",
    "    \n",
    "    print('\\n', y_i, '\\n', est_lr_coeffs(train, target_i, n_resamples=1000))"
   ]
  },
  {
   "cell_type": "markdown",
   "metadata": {},
   "source": [
    "### Part 2"
   ]
  },
  {
   "cell_type": "code",
   "execution_count": 84,
   "metadata": {
    "collapsed": false
   },
   "outputs": [
    {
     "data": {
      "text/html": [
       "<div>\n",
       "<style>\n",
       "    .dataframe thead tr:only-child th {\n",
       "        text-align: right;\n",
       "    }\n",
       "\n",
       "    .dataframe thead th {\n",
       "        text-align: left;\n",
       "    }\n",
       "\n",
       "    .dataframe tbody tr th {\n",
       "        vertical-align: top;\n",
       "    }\n",
       "</style>\n",
       "<table border=\"1\" class=\"dataframe\">\n",
       "  <thead>\n",
       "    <tr style=\"text-align: right;\">\n",
       "      <th></th>\n",
       "      <th>day</th>\n",
       "      <th>bugsPerDay</th>\n",
       "      <th>cummBugs</th>\n",
       "    </tr>\n",
       "  </thead>\n",
       "  <tbody>\n",
       "    <tr>\n",
       "      <th>0</th>\n",
       "      <td>1</td>\n",
       "      <td>0</td>\n",
       "      <td>0</td>\n",
       "    </tr>\n",
       "    <tr>\n",
       "      <th>1</th>\n",
       "      <td>2</td>\n",
       "      <td>1</td>\n",
       "      <td>1</td>\n",
       "    </tr>\n",
       "    <tr>\n",
       "      <th>2</th>\n",
       "      <td>3</td>\n",
       "      <td>0</td>\n",
       "      <td>1</td>\n",
       "    </tr>\n",
       "    <tr>\n",
       "      <th>3</th>\n",
       "      <td>4</td>\n",
       "      <td>2</td>\n",
       "      <td>3</td>\n",
       "    </tr>\n",
       "    <tr>\n",
       "      <th>4</th>\n",
       "      <td>5</td>\n",
       "      <td>1</td>\n",
       "      <td>4</td>\n",
       "    </tr>\n",
       "  </tbody>\n",
       "</table>\n",
       "</div>"
      ],
      "text/plain": [
       "   day  bugsPerDay  cummBugs\n",
       "0    1           0         0\n",
       "1    2           1         1\n",
       "2    3           0         1\n",
       "3    4           2         3\n",
       "4    5           1         4"
      ]
     },
     "execution_count": 84,
     "metadata": {},
     "output_type": "execute_result"
    }
   ],
   "source": [
    "ds2.head(5)"
   ]
  },
  {
   "cell_type": "code",
   "execution_count": 85,
   "metadata": {
    "collapsed": false
   },
   "outputs": [],
   "source": [
    "train, target = np.array(ds2.day), np.array(ds2.cummBugs)"
   ]
  },
  {
   "cell_type": "code",
   "execution_count": 86,
   "metadata": {
    "collapsed": true
   },
   "outputs": [],
   "source": [
    "def predict_y(a, b, x):\n",
    "    return a * (1 - (1 + b * x) * np.exp(-b * x))"
   ]
  },
  {
   "cell_type": "code",
   "execution_count": 87,
   "metadata": {
    "collapsed": false
   },
   "outputs": [],
   "source": [
    "from scipy.optimize import minimize\n",
    "\n",
    "def find_best_coeffs(X, Y):\n",
    "    loss = lambda coeffs: np.mean((predict_y(coeffs[0], coeffs[1], X) - Y) ** 2)\n",
    "    \n",
    "    return minimize(loss, [5000., 0.001], tol=1e-25).x"
   ]
  },
  {
   "cell_type": "code",
   "execution_count": 88,
   "metadata": {
    "collapsed": false
   },
   "outputs": [
    {
     "name": "stdout",
     "output_type": "stream",
     "text": [
      "Coeffs with the minimum loss function: [  8.54128298e+03   1.85848366e-03]\n"
     ]
    }
   ],
   "source": [
    "coefs = find_best_coeffs(train, target)\n",
    "print('Coeffs with the minimum loss function:', coefs)"
   ]
  },
  {
   "cell_type": "code",
   "execution_count": 89,
   "metadata": {
    "collapsed": false
   },
   "outputs": [
    {
     "data": {
      "text/plain": [
       "[<matplotlib.lines.Line2D at 0x1ec76ee08d0>]"
      ]
     },
     "execution_count": 89,
     "metadata": {},
     "output_type": "execute_result"
    },
    {
     "data": {
      "image/png": "[encoded data removed]",
      "text/plain": [
       "<matplotlib.figure.Figure at 0x1ec7705aba8>"
      ]
     },
     "metadata": {},
     "output_type": "display_data"
    }
   ],
   "source": [
    "import matplotlib.pyplot as plt\n",
    "%matplotlib inline\n",
    "\n",
    "plt.plot(predict_y(coefs[0], coefs[1], train))\n",
    "plt.plot(target)"
   ]
  },
  {
   "cell_type": "code",
   "execution_count": 93,
   "metadata": {
    "collapsed": false
   },
   "outputs": [
    {
     "name": "stderr",
     "output_type": "stream",
     "text": [
      "C:\\Users\\Aleksey\\Anaconda3\\lib\\site-packages\\ipykernel\\__main__.py:2: RuntimeWarning: overflow encountered in exp\n",
      "  from ipykernel import kernelapp as app\n",
      "C:\\Users\\Aleksey\\Anaconda3\\lib\\site-packages\\ipykernel\\__main__.py:2: RuntimeWarning: overflow encountered in multiply\n",
      "  from ipykernel import kernelapp as app\n",
      "C:\\Users\\Aleksey\\Anaconda3\\lib\\site-packages\\ipykernel\\__main__.py:4: RuntimeWarning: overflow encountered in square\n",
      "C:\\Users\\Aleksey\\Anaconda3\\lib\\site-packages\\scipy\\optimize\\optimize.py:628: RuntimeWarning: invalid value encountered in double_scalars\n",
      "  grad[k] = (f(*((xk + d,) + args)) - f0) / d[k]\n",
      "C:\\Users\\Aleksey\\Anaconda3\\lib\\site-packages\\ipykernel\\__main__.py:2: RuntimeWarning: overflow encountered in exp\n",
      "  from ipykernel import kernelapp as app\n",
      "C:\\Users\\Aleksey\\Anaconda3\\lib\\site-packages\\ipykernel\\__main__.py:2: RuntimeWarning: overflow encountered in multiply\n",
      "  from ipykernel import kernelapp as app\n",
      "C:\\Users\\Aleksey\\Anaconda3\\lib\\site-packages\\ipykernel\\__main__.py:4: RuntimeWarning: overflow encountered in square\n"
     ]
    }
   ],
   "source": [
    "from tqdm import tqdm\n",
    "\n",
    "exp_len = 900\n",
    "\n",
    "B = 500\n",
    "bs_coefs = []\n",
    "\n",
    "samples_count = len(ds2)\n",
    "\n",
    "for _ in range(B):\n",
    "    samp_len = min(samples_count - 1, np.random.geometric(1.0 / (exp_len + 1.0)))\n",
    "    \n",
    "    start_ind = np.random.randint(0, samples_count - samp_len)\n",
    "    samp_ind = np.array(range(start_ind, start_ind + samp_len))\n",
    "    \n",
    "    x_bs = train[samp_ind]\n",
    "    y_bs = target[samp_ind]\n",
    "    \n",
    "    bs_coefs.append(find_best_coeffs(x_bs, y_bs))\n",
    "\n",
    "bs_coefs = np.array(bs_coefs)"
   ]
  },
  {
   "cell_type": "code",
   "execution_count": 94,
   "metadata": {
    "collapsed": true
   },
   "outputs": [],
   "source": [
    "deltas = coefs - bs_coefs\n",
    "\n",
    "deltas_l = np.percentile(deltas, 2.5, axis=0)\n",
    "deltas_r = np.percentile(deltas, 97.5, axis=0)\n",
    "\n",
    "l_bound = coefs - deltas_r\n",
    "r_bound = coefs - deltas_l"
   ]
  },
  {
   "cell_type": "code",
   "execution_count": 95,
   "metadata": {
    "collapsed": false
   },
   "outputs": [
    {
     "name": "stdout",
     "output_type": "stream",
     "text": [
      "Estimation of model parameters\n"
     ]
    },
    {
     "data": {
      "text/html": [
       "<div>\n",
       "<style>\n",
       "    .dataframe thead tr:only-child th {\n",
       "        text-align: right;\n",
       "    }\n",
       "\n",
       "    .dataframe thead th {\n",
       "        text-align: left;\n",
       "    }\n",
       "\n",
       "    .dataframe tbody tr th {\n",
       "        vertical-align: top;\n",
       "    }\n",
       "</style>\n",
       "<table border=\"1\" class=\"dataframe\">\n",
       "  <thead>\n",
       "    <tr style=\"text-align: right;\">\n",
       "      <th></th>\n",
       "      <th>est</th>\n",
       "      <th>low_bound</th>\n",
       "      <th>upp_bound</th>\n",
       "    </tr>\n",
       "  </thead>\n",
       "  <tbody>\n",
       "    <tr>\n",
       "      <th>0</th>\n",
       "      <td>8541.282980</td>\n",
       "      <td>1132.666598</td>\n",
       "      <td>2.005079e+06</td>\n",
       "    </tr>\n",
       "    <tr>\n",
       "      <th>1</th>\n",
       "      <td>0.001858</td>\n",
       "      <td>0.000083</td>\n",
       "      <td>1.012387e+00</td>\n",
       "    </tr>\n",
       "  </tbody>\n",
       "</table>\n",
       "</div>"
      ],
      "text/plain": [
       "           est    low_bound     upp_bound\n",
       "0  8541.282980  1132.666598  2.005079e+06\n",
       "1     0.001858     0.000083  1.012387e+00"
      ]
     },
     "execution_count": 95,
     "metadata": {},
     "output_type": "execute_result"
    }
   ],
   "source": [
    "print('Estimation of model parameters')\n",
    "pd.DataFrame([{'est': coefs[i],\n",
    "               'low_bound': l_bound[i],\n",
    "               'upp_bound': r_bound[i]} for i in range(2)])"
   ]
  }
 ],
 "metadata": {
  "anaconda-cloud": {},
  "kernelspec": {
   "display_name": "Python [Root]",
   "language": "python",
   "name": "Python [Root]"
  },
  "language_info": {
   "codemirror_mode": {
    "name": "ipython",
    "version": 3
   },
   "file_extension": ".py",
   "mimetype": "text/x-python",
   "name": "python",
   "nbconvert_exporter": "python",
   "pygments_lexer": "ipython3",
   "version": "3.5.2"
  }
 },
 "nbformat": 4,
 "nbformat_minor": 0
}
