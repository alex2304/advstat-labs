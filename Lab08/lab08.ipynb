{
 "cells": [
  {
   "cell_type": "code",
   "execution_count": 10,
   "metadata": {
    "collapsed": true
   },
   "outputs": [],
   "source": [
    "import pandas as pd\n",
    "import numpy as np"
   ]
  },
  {
   "cell_type": "code",
   "execution_count": 11,
   "metadata": {
    "collapsed": true
   },
   "outputs": [],
   "source": [
    "ds2, ds1 = pd.read_csv('ds-boot-1.csv', sep='\\t'), pd.read_csv('ds-boot-2.csv', sep='\\t')"
   ]
  },
  {
   "cell_type": "code",
   "execution_count": 34,
   "metadata": {
    "collapsed": true
   },
   "outputs": [],
   "source": [
    "from sklearn.linear_model import LinearRegression\n",
    "from sklearn.utils import resample"
   ]
  },
  {
   "cell_type": "code",
   "execution_count": 13,
   "metadata": {
    "collapsed": false
   },
   "outputs": [
    {
     "name": "stdout",
     "output_type": "stream",
     "text": [
      "   id       p1   p2   p3       p4   p5       p6       p7       p8       p9  \\\n",
      "0  11  6.48148  3.0  5.0  7.75000  0.0  7.16667  8.16667  9.66667  6.16667   \n",
      "1  12  5.74074  4.0  8.0  7.33333  8.0  8.83333  9.75000  9.66667  9.00000   \n",
      "2  25  7.59259  7.0  8.0  7.66667  8.0  9.66667  9.50000  6.16667  9.66667   \n",
      "\n",
      "   ...       p24      p25  p26      p27  p28   y1     y2    y3    y4    y5  \n",
      "0  ...   1.66667  3.16667  0.0  0.00000  0.0  1.0   5.00  7.44  1.18  4.38  \n",
      "1  ...   2.50000  5.50000  5.0  8.66667  8.0  4.5   4.25  8.93  2.00  6.03  \n",
      "2  ...   3.50000  3.50000  9.0  6.50000  7.0  7.5  11.00  8.97  2.00  9.12  \n",
      "\n",
      "[3 rows x 34 columns]\n",
      "(40, 28)\n",
      "(40, 5)\n"
     ]
    }
   ],
   "source": [
    "print(ds1.head(3))\n",
    "train, target = ds1.iloc[:, 1:29], ds1.iloc[:, 29:]\n",
    "\n",
    "print(train.shape)\n",
    "print(target.shape)"
   ]
  },
  {
   "cell_type": "code",
   "execution_count": 41,
   "metadata": {
    "collapsed": true
   },
   "outputs": [],
   "source": [
    "# part 1.1: estimate stats using bootstrap\n",
    "def est_stats(sample, n_resamples=100):\n",
    "    # bootstrap sample size\n",
    "    b_sample_size = sample.shape[0]\n",
    "    \n",
    "    # boostrap resamples means\n",
    "    b_resamples = np.ndarray((n_resamples, b_sample_size))\n",
    "    \n",
    "    for i in range(0, n_resamples):\n",
    "        b_resamples[i] = resample(sample, n_samples=b_sample_size)\n",
    "    \n",
    "    b_resamples_means = [rs.mean() for rs in b_resamples]\n",
    "    \n",
    "    return pd.DataFrame(b_resamples_means)\n",
    "    "
   ]
  },
  {
   "cell_type": "code",
   "execution_count": 42,
   "metadata": {
    "collapsed": false
   },
   "outputs": [
    {
     "name": "stdout",
     "output_type": "stream",
     "text": [
      "y1                 0\n",
      "count  100.000000\n",
      "mean     3.973250\n",
      "std      0.428996\n",
      "min      3.050000\n",
      "25%      3.687500\n",
      "50%      3.937500\n",
      "75%      4.265625\n",
      "max      5.400000\n",
      "y2                 0\n",
      "count  100.000000\n",
      "mean     5.519125\n",
      "std      0.529692\n",
      "min      4.106250\n",
      "25%      5.265625\n",
      "50%      5.571875\n",
      "75%      5.853125\n",
      "max      6.600000\n",
      "y3                 0\n",
      "count  100.000000\n",
      "mean     7.261320\n",
      "std      0.486111\n",
      "min      6.148500\n",
      "25%      6.905250\n",
      "50%      7.254375\n",
      "75%      7.607687\n",
      "max      8.286500\n",
      "y4                 0\n",
      "count  100.000000\n",
      "mean     1.527662\n",
      "std      0.108961\n",
      "min      1.234000\n",
      "25%      1.445000\n",
      "50%      1.528625\n",
      "75%      1.598938\n",
      "max      1.766250\n",
      "y5                 0\n",
      "count  100.000000\n",
      "mean     5.609863\n",
      "std      0.435735\n",
      "min      4.666250\n",
      "25%      5.302875\n",
      "50%      5.623625\n",
      "75%      5.869875\n",
      "max      6.735750\n"
     ]
    }
   ],
   "source": [
    "# part 1.1: estimate stats using bootstrap for each y_i\n",
    "for y_i in target:\n",
    "    sample = target[y_i]\n",
    "    \n",
    "    print(y_i, est_stats(sample).describe())"
   ]
  },
  {
   "cell_type": "code",
   "execution_count": 69,
   "metadata": {
    "collapsed": false
   },
   "outputs": [],
   "source": [
    "from sklearn.metrics import r2_score\n",
    "\n",
    "# part 1.2: est coefficients for LR\n",
    "def est_lr_coeffs(train, y, n_resamples=10):\n",
    "    sample_size = y.shape[0]\n",
    "    \n",
    "    lr = LinearRegression()    \n",
    "    \n",
    "    resamples = np.ndarray((n_resamples, sample_size))\n",
    "    coeffs = np.ndarray((n_resamples, train.shape[1] + 1))\n",
    "    det_coeffs = np.ndarray((n_resamples, ))\n",
    "    \n",
    "    # resampling and finding coefficients of LR for each resample\n",
    "    for j in range(0, n_resamples):\n",
    "        resamples[j] = resample(samples, n_samples=sample_size)\n",
    "        \n",
    "        lr.fit(train, resamples[j])\n",
    "        \n",
    "        y_predicted = lr.predict(train)\n",
    "        \n",
    "        det_coeffs[j] = r2_score(y, y_predicted)\n",
    "        coeffs[j] = np.concatenate((lr.coef_, [lr.intercept_]))\n",
    "        \n",
    "    # sort bootstrap samples according to coefficient of determination of LR\n",
    "    sorted_samples = np.ndarray((n_resamples, sample_size))\n",
    "    for i, t in enumerate(sorted(zip(det_coeffs, resamples), key=lambda e: e[0], reverse=True)):\n",
    "        det_coeff, sample = t\n",
    "        sorted_samples[i] = sample\n",
    "    \n",
    "    return sorted_samples"
   ]
  },
  {
   "cell_type": "code",
   "execution_count": 68,
   "metadata": {
    "collapsed": false
   },
   "outputs": [],
   "source": [
    "# part 1.2: estimate coefficients for LR for each y_i\n",
    "for y_i in target:\n",
    "    target_i = target[y_i]\n",
    "    \n",
    "    est_lr_coeffs(train, target_i, n_resamples=100)"
   ]
  }
 ],
 "metadata": {
  "kernelspec": {
   "display_name": "Python [Root]",
   "language": "python",
   "name": "Python [Root]"
  },
  "language_info": {
   "codemirror_mode": {
    "name": "ipython",
    "version": 3
   },
   "file_extension": ".py",
   "mimetype": "text/x-python",
   "name": "python",
   "nbconvert_exporter": "python",
   "pygments_lexer": "ipython3",
   "version": "3.5.2"
  }
 },
 "nbformat": 4,
 "nbformat_minor": 0
}
